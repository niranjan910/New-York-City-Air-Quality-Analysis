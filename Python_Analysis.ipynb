{
 "cells": [
  {
   "cell_type": "markdown",
   "id": "d1979159-e7f0-4af9-96d4-616f65fc2315",
   "metadata": {},
   "source": [
    "### *New-York City Air Quality Analysis*\n",
    "\n",
    "\n",
    "### *Business Problem*\n",
    "*Problem Statement: Ferns and Petals Sales Analysis*\n",
    "*You have been given a dataset from FNP (Ferns and Petals) that specializes in sending gifts for various occasions like Diwali, Raksha Bandhan, Holi, Valentine's Day, Birthdays, and Anniversaries. The dataset contains details about the products, orders, customers, and relevant dates.\n",
    "Your task is to analyze this dataset to uncover key insights related to sales trends, customer behavior, and product performance.*\n",
    "\n",
    "*Create a dashboard and answer the following key business questions to help the company improve its sales strategy and optimize customer satisfaction:*\n",
    "1. *Total Revenue: Identify the overall revenue.*\n",
    "2. *Average Order and Delivery Time: Evaluate the time taken for orders to be delivered.*\n",
    "3. *Monthly Sales Performance: Examine how sales fluctuate across the months of 2023.*\n",
    "4. *Top Products by Revenue: Determine which products are the top revenue generators.*\n",
    "5. *Customer Spending Analysis: Understand how much customers are spending on average.*\n",
    "6. *Sales Performance by Top 5 Product: Track the sales performance of top 5 products.*\n",
    "7. *Top 10 Cities by Number of Orders: Find out which cities are placing the highest number of orders.*\n",
    "8. *Order Quantity vs. Delivery Time: Analyze if higher order quantities impact delivery times.*\n",
    "9. *Revenue Comparison Between Occasions: Compare revenue generated across different occasions.*\n",
    "10. *Product Popularity by Occasion: Identify which products are most popular during specific occasions.*\n",
    "\n",
    "*Author – Niranjan (Data Analyst)*"
   ]
  },
  {
   "cell_type": "code",
   "execution_count": null,
   "id": "34746310-f0e4-4a55-918e-b871e6c1894d",
   "metadata": {},
   "outputs": [],
   "source": [
    "import pandas as pd\n",
    "import re\n",
    "\n",
    "from datetime import datetime\n",
    "\n",
    "pd.set_option('display.max_rows', None)"
   ]
  },
  {
   "cell_type": "code",
   "execution_count": null,
   "id": "0d543af2-71bc-42ca-a879-577bb22ff16c",
   "metadata": {},
   "outputs": [],
   "source": [
    "df = pd.read_csv(\"Air_Quality.csv\")"
   ]
  },
  {
   "cell_type": "code",
   "execution_count": null,
   "id": "a305761a-53d2-4792-964d-03a66285b4f6",
   "metadata": {},
   "outputs": [],
   "source": [
    "df.shape"
   ]
  },
  {
   "cell_type": "code",
   "execution_count": null,
   "id": "7e1a20e6-c670-4ba4-b250-c0dd02b5b2c0",
   "metadata": {},
   "outputs": [],
   "source": [
    "df.head(5)"
   ]
  },
  {
   "cell_type": "code",
   "execution_count": null,
   "id": "ce974dc4-6966-4c5e-97b2-484571052a08",
   "metadata": {},
   "outputs": [],
   "source": [
    "df.columns"
   ]
  },
  {
   "cell_type": "code",
   "execution_count": null,
   "id": "9ed7aaae-acbc-4cb2-9394-8c2d5fd07c3e",
   "metadata": {},
   "outputs": [],
   "source": [
    "# List of columns to drop\n",
    "cols_to_drop = [\n",
    "    'Unique ID', \n",
    "    'Indicator ID',\n",
    "    'Geo Type Name', \n",
    "    'Geo Join ID',\n",
    "    'Message'\n",
    "]\n",
    "\n",
    "# Drop the columns\n",
    "df.drop(columns=cols_to_drop, inplace=True)"
   ]
  },
  {
   "cell_type": "code",
   "execution_count": null,
   "id": "405bb5c7-4925-42cc-8f67-73bdcd04b17d",
   "metadata": {},
   "outputs": [],
   "source": [
    "df.columns"
   ]
  },
  {
   "cell_type": "markdown",
   "id": "180ec4b7-03d1-4a84-9bfe-d316159a324f",
   "metadata": {},
   "source": [
    "### *`Name`*"
   ]
  },
  {
   "cell_type": "code",
   "execution_count": null,
   "id": "390bd28c-c0bd-4850-81fd-c25f665cf52e",
   "metadata": {},
   "outputs": [],
   "source": [
    "df['Name'].unique()"
   ]
  },
  {
   "cell_type": "code",
   "execution_count": null,
   "id": "9c20c317-d577-4472-8bed-b0f7824a0eff",
   "metadata": {},
   "outputs": [],
   "source": [
    "df['Name'].nunique()"
   ]
  },
  {
   "cell_type": "code",
   "execution_count": null,
   "id": "781273e7-cfb6-450b-9514-b8b4dea1668c",
   "metadata": {},
   "outputs": [],
   "source": [
    "df['Name'].value_counts()"
   ]
  },
  {
   "cell_type": "code",
   "execution_count": null,
   "id": "2e934384-1584-43b1-b519-96aab6a2b0ab",
   "metadata": {},
   "outputs": [],
   "source": [
    "df['Name'].isna().sum()"
   ]
  },
  {
   "cell_type": "code",
   "execution_count": null,
   "id": "2d0869e1-dc6c-4367-956e-83efb163f3b8",
   "metadata": {},
   "outputs": [],
   "source": [
    "df['Name'].dtype"
   ]
  },
  {
   "cell_type": "code",
   "execution_count": null,
   "id": "e2fd00ac-9009-40a1-8380-93eb687aa25e",
   "metadata": {},
   "outputs": [],
   "source": [
    "df['Name'] = df['Name'].str.strip()"
   ]
  },
  {
   "cell_type": "code",
   "execution_count": null,
   "id": "ef8cc26a-4584-4b93-9087-0f8a5d7352f0",
   "metadata": {},
   "outputs": [],
   "source": [
    "name_duplicates = df[df.duplicated('Name', keep=False)]  # Keep all duplicates\n",
    "name_duplicates_sorted = name_duplicates.sort_values('Name')\n",
    "\n",
    "# Get duplicate counts per name\n",
    "duplicate_counts = df['Name'].value_counts().reset_index()\n",
    "duplicate_counts.columns = ['Name', 'Count']\n",
    "duplicate_counts = duplicate_counts[duplicate_counts['Count'] > 1]\n",
    "\n",
    "print(f\"Total duplicate name entries: {len(name_duplicates)}\")\n",
    "print(f\"Unique duplicate names: {len(duplicate_counts)}\")\n",
    "print(\"\\nTop duplicated names:\")\n",
    "print(duplicate_counts.head(10))"
   ]
  },
  {
   "cell_type": "code",
   "execution_count": null,
   "id": "fa0ddbce-0ea1-4c72-b1df-320c1468d1b5",
   "metadata": {},
   "outputs": [],
   "source": [
    "# Convert 'Name' column to title case\n",
    "df['Name'] = df['Name'].str.title()\n",
    "\n",
    "# Verify changes\n",
    "print(\"Sample standardized names:\")\n",
    "print(df['Name'].sample(5, random_state=1))"
   ]
  },
  {
   "cell_type": "code",
   "execution_count": null,
   "id": "06a57876-11a5-4af1-b1f9-a5b9a30e1b9f",
   "metadata": {},
   "outputs": [],
   "source": [
    "df['Name'].value_counts()"
   ]
  },
  {
   "cell_type": "code",
   "execution_count": null,
   "id": "6fd71a72-1d58-403a-b33f-c791d6e1f922",
   "metadata": {},
   "outputs": [],
   "source": [
    "# Define the mapping rules (customize as needed)\n",
    "name_mapping = {\n",
    "    # Air Quality Indicators\n",
    "    'Nitrogen Dioxide (No2)': 'NO2',\n",
    "    'Fine Particles (Pm 2.5)': 'PM2.5',\n",
    "    'Ozone (O3)': 'Ozone',\n",
    "    'Asthma Emergency Departments Visits Due To Ozone': 'Asthma Visits',\n",
    "    'Asthma Emergency Department Visits Due To Pm2.5': 'Asthma Visits',\n",
    "    'Asthma Hospitalizations Due To Ozone': 'Asthma Hospitalizations',\n",
    "    'Deaths Due To Pm2.5': 'Deaths',\n",
    "    'Cardiovascular Hospitalizations Due To Pm2.5 (Age 40+)': 'Cardiovascular Hospitalizations',\n",
    "    'Cardiac And Respiratory Deaths Due To Ozone': 'Deaths',\n",
    "    'Respiratory Hospitalizations Due To Pm2.5 (Age 20+)': 'Respiratory Hospitalizations',\n",
    "    'Annual Vehicle Miles Traveled': 'Vehicle Miles',\n",
    "    'Annual Vehicle Miles Traveled (Trucks)': 'Vehicle Miles',\n",
    "    'Annual Vehicle Miles Traveled (Cars)': 'Vehicle Miles',\n",
    "    'Outdoor Air Toxics - Benzene': 'Outdoor Air Toxics',\n",
    "    'Outdoor Air Toxics - Formaldehyde': 'Outdoor Air Toxics',\n",
    "    'Boiler Emissions- Total Nox Emissions': 'Boiler Emissions',\n",
    "    'Boiler Emissions- Total So2 Emissions': 'Boiler Emissions',\n",
    "    'Boiler Emissions- Total Pm2.5 Emissions': 'Boiler Emissions',\n",
    "}\n",
    "\n",
    "# Apply mapping to create 'Name_Clean'\n",
    "df['Name_Clean'] = df['Name'].map(name_mapping)\n",
    "\n",
    "# For unmatched names, keep original (or set as 'Other')\n",
    "df['Name_Clean'] = df['Name_Clean'].fillna('Other')  # or fillna(df['Name'])\n",
    "\n",
    "# Verify the results\n",
    "print(\"Top 10 Cleaned Names:\")\n",
    "print(df['Name_Clean'].value_counts().head(10))"
   ]
  },
  {
   "cell_type": "code",
   "execution_count": null,
   "id": "8048a065-0fa5-48dc-8bc3-33356ae9d82a",
   "metadata": {},
   "outputs": [],
   "source": [
    "df['Name_Clean'].value_counts()"
   ]
  },
  {
   "cell_type": "markdown",
   "id": "076370e4-5526-43e0-850b-9ad8728961bc",
   "metadata": {},
   "source": [
    "### *`Measure`*"
   ]
  },
  {
   "cell_type": "code",
   "execution_count": null,
   "id": "0295173c-51ce-4cad-8d1d-24d9aba603e5",
   "metadata": {},
   "outputs": [],
   "source": [
    "df['Measure'].unique()"
   ]
  },
  {
   "cell_type": "code",
   "execution_count": null,
   "id": "f9c1ff45-fbbd-44d5-b703-0c0d69427c6c",
   "metadata": {},
   "outputs": [],
   "source": [
    "df['Measure'].nunique()"
   ]
  },
  {
   "cell_type": "code",
   "execution_count": null,
   "id": "d94d7660-837f-4dd4-b245-b340ee9dd78f",
   "metadata": {},
   "outputs": [],
   "source": [
    "df['Measure'].value_counts()"
   ]
  },
  {
   "cell_type": "code",
   "execution_count": null,
   "id": "5f616550-d171-4bad-994c-1854a1635bd7",
   "metadata": {},
   "outputs": [],
   "source": [
    "# Trim whitespace from the 'Measure' column\n",
    "df['Measure'] = df['Measure'].str.strip()\n",
    "\n",
    "# Verify changes\n",
    "print(\"Value counts after trimming:\")\n",
    "print(df['Measure'].value_counts())"
   ]
  },
  {
   "cell_type": "code",
   "execution_count": null,
   "id": "55070af3-c6f6-44a4-8316-db4d58a06141",
   "metadata": {},
   "outputs": [],
   "source": [
    "def standardize_measure(text):\n",
    "    text = str(text).strip().title()\n",
    "    text = text.replace('Per Km2', 'per km2')  # Handle special case\n",
    "    text = text.replace('Km2', 'km2')          # Standardize units\n",
    "    return text\n",
    "\n",
    "# Standardize the actual data\n",
    "df['Measure_Standardized'] = df['Measure'].apply(standardize_measure)\n",
    "\n",
    "# Get counts from standardized data\n",
    "counts = df['Measure_Standardized'].value_counts().reset_index()\n",
    "counts.columns = ['Measure_Standardized', 'Actual_Count']\n",
    "\n",
    "# Desired output measures (display names)\n",
    "output_measures = [\n",
    "    'Mean',\n",
    "    'Number Per Km2',\n",
    "    'Estimated Annual Rate (Age 18+)',\n",
    "    'Million Miles',\n",
    "    'Estimated Annual Rate',\n",
    "    'Estimated Annual Rate (Under Age 18)',\n",
    "    'Annual Average Concentration',\n",
    "    'Estimated Annual Rate (Age 30+)'\n",
    "]\n",
    "\n",
    "# Create output DataFrame with standardized keys\n",
    "df_output = pd.DataFrame({'Display_Measure': output_measures})\n",
    "df_output['Measure_Standardized'] = df_output['Display_Measure'].apply(standardize_measure)\n",
    "\n",
    "# Merge with actual counts\n",
    "result = df_output.merge(counts, on='Measure_Standardized', how='left')\n",
    "result['Count'] = result['Actual_Count'].fillna(0).astype(int)\n",
    "\n",
    "# Final output with correct display names\n",
    "final_output = result[['Display_Measure', 'Count']]\n",
    "final_output.columns = ['Measure', 'Count']  # Rename columns\n",
    "\n",
    "# Print formatted table\n",
    "print(final_output.to_markdown(index=False, stralign='left'))"
   ]
  },
  {
   "cell_type": "code",
   "execution_count": null,
   "id": "af6bd83f-7032-46f4-9a99-f5ee2a249c3a",
   "metadata": {},
   "outputs": [],
   "source": [
    "mean_count = counts[counts['Measure_Standardized'] == 'Mean']['Actual_Count'].sum()\n",
    "aac_count = counts[counts['Measure_Standardized'] == 'Annual Average Concentration']['Actual_Count'].sum()\n",
    "combined_count = mean_count + aac_count\n",
    "\n",
    "# Update counts for both measures in the result DataFrame\n",
    "result.loc[result['Display_Measure'] == 'Mean', 'Count'] = combined_count\n",
    "result.loc[result['Display_Measure'] == 'Annual Average Concentration', 'Count'] = combined_count\n",
    "\n",
    "# Final output with correct display names\n",
    "final_output = result[['Display_Measure', 'Count']]\n",
    "final_output.columns = ['Measure', 'Count']  # Rename columns\n",
    "\n",
    "# Print formatted table\n",
    "print(final_output.to_markdown(index=False, stralign='left'))"
   ]
  },
  {
   "cell_type": "code",
   "execution_count": null,
   "id": "48f9ecd6-ad72-41ac-884f-2f972d2cd1a4",
   "metadata": {},
   "outputs": [],
   "source": [
    "# Calculate combined count for Mean and Annual Average Concentration\n",
    "mean_count = counts[counts['Measure_Standardized'] == 'Mean']['Actual_Count'].sum()\n",
    "aac_count = counts[counts['Measure_Standardized'] == 'Annual Average Concentration']['Actual_Count'].sum()\n",
    "combined_count = mean_count + aac_count\n",
    "\n",
    "# Update count for Mean only (don't update Annual Average Concentration)\n",
    "result.loc[result['Display_Measure'] == 'Mean', 'Count'] = combined_count\n",
    "\n",
    "# Filter out the Annual Average Concentration row before final output\n",
    "final_output = result[result['Display_Measure'] != 'Annual Average Concentration'][['Display_Measure', 'Count']]\n",
    "final_output.columns = ['Measure', 'Count']  # Rename columns\n",
    "\n",
    "# Print formatted table\n",
    "print(final_output.to_markdown(index=False, stralign='left'))"
   ]
  },
  {
   "cell_type": "markdown",
   "id": "1c09a9a9-2454-498c-9330-02070af3daa2",
   "metadata": {},
   "source": [
    "### *`Measure Info`*"
   ]
  },
  {
   "cell_type": "code",
   "execution_count": null,
   "id": "54ce1db6-f05c-460b-af42-2ee3d8ee0b0c",
   "metadata": {},
   "outputs": [],
   "source": [
    "df['Measure Info'].unique()"
   ]
  },
  {
   "cell_type": "code",
   "execution_count": null,
   "id": "46f5f686-7ce4-49d2-a0c3-3f91ddda8995",
   "metadata": {},
   "outputs": [],
   "source": [
    "df['Measure Info'].nunique()"
   ]
  },
  {
   "cell_type": "code",
   "execution_count": null,
   "id": "5723b9df-2bef-40c0-8356-649d8a47baa4",
   "metadata": {},
   "outputs": [],
   "source": [
    "df['Measure Info'].value_counts()"
   ]
  },
  {
   "cell_type": "code",
   "execution_count": null,
   "id": "2db8fc98-5ee6-4a1b-9256-689ac02d3ff0",
   "metadata": {},
   "outputs": [],
   "source": [
    "# Standardization function \n",
    "def standardize_measure(info):\n",
    "    info = str(info).strip().lower()\n",
    "    \n",
    "    # Handle unit variations\n",
    "    if any(unit in info for unit in ['µg/m3', 'âµg/m3', 'mcg/m3', 'ug/m3']):\n",
    "        return 'mcg/m3'\n",
    "    \n",
    "    # Handle population rate variations\n",
    "    if 'per 100,000' in info:\n",
    "        if 'children' in info:\n",
    "            return 'per 100,000 children'\n",
    "        return 'per 100,000 adults'\n",
    "    \n",
    "    return info\n",
    "\n",
    "# Apply standardization\n",
    "df['Measure_Standardized'] = df['Measure Info'].apply(standardize_measure)\n",
    "\n",
    "# Get value counts\n",
    "measure_counts = df['Measure_Standardized'].value_counts().reset_index()\n",
    "measure_counts.columns = ['Measure_Standardized', 'Count']\n",
    "\n",
    "# Create desired output format\n",
    "output_measures = [\n",
    "    'ppb',\n",
    "    'mcg/m3', \n",
    "    'per 100,000 adults',\n",
    "    'per 100,000 children',\n",
    "    'per square mile',\n",
    "    'number'\n",
    "]\n",
    "\n",
    "# Merge and format\n",
    "result = pd.DataFrame({'Measure Info': output_measures})\n",
    "result = result.merge(\n",
    "    measure_counts, \n",
    "    left_on='Measure Info', \n",
    "    right_on='Measure_Standardized', \n",
    "    how='left'\n",
    ").drop(columns='Measure_Standardized')\n",
    "\n",
    "# Fill NA with 0 and format numbers\n",
    "result['Count'] = result['Count'].fillna(0).astype(int)\n",
    "result['Count'] = result['Count'].apply(lambda x: f\"{x:,}\")\n",
    "\n",
    "# Print formatted output\n",
    "print(result.to_markdown(index=False, stralign='left'))"
   ]
  },
  {
   "cell_type": "markdown",
   "id": "e72eb57a-331f-403d-9a83-2040bc3a51f2",
   "metadata": {},
   "source": [
    "### *`Geo Place Name`*"
   ]
  },
  {
   "cell_type": "code",
   "execution_count": null,
   "id": "f0e51a32-7417-42e3-9f47-61ae7bb54bc5",
   "metadata": {},
   "outputs": [],
   "source": [
    "df['Geo Place Name'].unique()"
   ]
  },
  {
   "cell_type": "code",
   "execution_count": null,
   "id": "7ce879ff-8bb5-4021-a0c9-4df99523caac",
   "metadata": {},
   "outputs": [],
   "source": [
    "df['Geo Place Name'].nunique()"
   ]
  },
  {
   "cell_type": "code",
   "execution_count": null,
   "id": "3c436e69-ece4-44e6-a0ce-2c05d12591af",
   "metadata": {},
   "outputs": [],
   "source": [
    "df['Geo Place Name'].value_counts()"
   ]
  },
  {
   "cell_type": "code",
   "execution_count": null,
   "id": "5df4a444-b4a0-498b-bc22-c856903c8207",
   "metadata": {},
   "outputs": [],
   "source": [
    "pd.set_option('display.max_rows', None)\n",
    "print(df['Geo Place Name'].value_counts())"
   ]
  },
  {
   "cell_type": "code",
   "execution_count": null,
   "id": "fb5a9a35-807f-42fc-9373-b559317633c2",
   "metadata": {},
   "outputs": [],
   "source": [
    "df['Geo Place Name'] = (\n",
    "    df['Geo Place Name']\n",
    "    .astype(str)          # Ensures all values are strings\n",
    "    .str.strip()          # Trims spaces\n",
    "    .str.title()          # Title Case\n",
    "    .str.replace(r'\\s+', ' ', regex=True)  # Fixes spacing\n",
    "    .replace('^$', pd.NA, regex=True)  # Converts empty strings to NA\n",
    ")"
   ]
  },
  {
   "cell_type": "code",
   "execution_count": null,
   "id": "a9bbb3d9-a4d8-44c7-aff4-370b4454a851",
   "metadata": {},
   "outputs": [],
   "source": [
    "df['Geo Place Name'] = df['Geo Place Name'].str.title()"
   ]
  },
  {
   "cell_type": "code",
   "execution_count": null,
   "id": "09ded5b1-435e-4608-a370-8c83cf3ee74d",
   "metadata": {},
   "outputs": [],
   "source": [
    "df['Geo Place Name'].value_counts()"
   ]
  },
  {
   "cell_type": "markdown",
   "id": "a76250be-7d72-4efe-91a0-9985e6490fe8",
   "metadata": {},
   "source": [
    "### *`Time Period`*"
   ]
  },
  {
   "cell_type": "code",
   "execution_count": null,
   "id": "de19b4af-5768-4a13-bb88-57470a716d9c",
   "metadata": {},
   "outputs": [],
   "source": [
    "df['Time Period'].unique()"
   ]
  },
  {
   "cell_type": "code",
   "execution_count": null,
   "id": "aa2bebc4-a830-45a5-a0f8-47702c8b8653",
   "metadata": {},
   "outputs": [],
   "source": [
    "df['Time Period'].nunique()"
   ]
  },
  {
   "cell_type": "code",
   "execution_count": null,
   "id": "8070b5ef-21e2-4834-a8e3-2bb1c1cafe18",
   "metadata": {},
   "outputs": [],
   "source": [
    "df['Time Period'].value_counts()"
   ]
  },
  {
   "cell_type": "code",
   "execution_count": null,
   "id": "7bf8f2e6-1c46-4a65-aa7b-8b519df02eaf",
   "metadata": {},
   "outputs": [],
   "source": [
    "df['Time Period'] = df['Time Period'].str.strip().str.title()"
   ]
  },
  {
   "cell_type": "code",
   "execution_count": null,
   "id": "fab14f6c-ee54-4d27-b6dc-4a88f206bcaa",
   "metadata": {},
   "outputs": [],
   "source": [
    "df['Time Period'].value_counts()"
   ]
  },
  {
   "cell_type": "code",
   "execution_count": null,
   "id": "143d645c-c555-4216-b1fc-8d6737f9282e",
   "metadata": {},
   "outputs": [],
   "source": [
    "df['Season'] = df['Time Period'].apply(\n",
    "    lambda x: 'Annual' if x.startswith('Annual') else \n",
    "              x.split()[0] if any(season in x for season in ['Winter', 'Summer']) else 'Annual'\n",
    ")"
   ]
  },
  {
   "cell_type": "code",
   "execution_count": null,
   "id": "8689057e-fa3d-4e4c-8b48-0c6320d0acfd",
   "metadata": {},
   "outputs": [],
   "source": [
    "df['Season'].value_counts()"
   ]
  },
  {
   "cell_type": "code",
   "execution_count": null,
   "id": "27e48472-5e89-48d9-b469-1323b078b2ff",
   "metadata": {},
   "outputs": [],
   "source": [
    "df.shape"
   ]
  },
  {
   "cell_type": "code",
   "execution_count": null,
   "id": "3babe8f2-f153-4fb2-aff1-daa200497dd5",
   "metadata": {},
   "outputs": [],
   "source": [
    "def extract_period_year(period):\n",
    "    if period.startswith('Annual Average'):\n",
    "        return period.split()[-1]\n",
    "    elif any(season in period for season in ['Winter', 'Summer']):\n",
    "        return ' '.join(period.split()[1:])\n",
    "    else:\n",
    "        return period\n",
    "\n",
    "df['Period_Year'] = df['Time Period'].apply(extract_period_year)"
   ]
  },
  {
   "cell_type": "code",
   "execution_count": null,
   "id": "3b8e7a2e-88b0-46f9-9461-d5ae95886bc8",
   "metadata": {},
   "outputs": [],
   "source": [
    "df['Period_Year'].value_counts()"
   ]
  },
  {
   "cell_type": "code",
   "execution_count": null,
   "id": "3e32d3bf-a820-449e-ac9b-55b54c141821",
   "metadata": {},
   "outputs": [],
   "source": [
    "def clean_period_year(period):\n",
    "    if '-' not in period:\n",
    "        return period\n",
    "    start, end = period.split('-')\n",
    "    if len(end) == 2:\n",
    "        end = start[:2] + end\n",
    "    return f\"{start}-{end}\"\n",
    "\n",
    "df['Period_Year'] = df['Period_Year'].apply(clean_period_year)"
   ]
  },
  {
   "cell_type": "code",
   "execution_count": null,
   "id": "88c45466-b68e-421b-8636-f5079e05442d",
   "metadata": {},
   "outputs": [],
   "source": [
    "df['Period_Year'].value_counts()"
   ]
  },
  {
   "cell_type": "code",
   "execution_count": null,
   "id": "22a6e812-76f3-4ffb-9540-5b1c152f4453",
   "metadata": {},
   "outputs": [],
   "source": [
    "df['Period_Year'].isnull().sum()"
   ]
  },
  {
   "cell_type": "markdown",
   "id": "b3afad46-ee69-478c-8113-88525a5a3768",
   "metadata": {},
   "source": [
    "### *`Start_Date`*"
   ]
  },
  {
   "cell_type": "code",
   "execution_count": null,
   "id": "b6eaa553-dd7b-4be9-b0c5-545259762dc2",
   "metadata": {},
   "outputs": [],
   "source": [
    "df[\"Start_Date\"].unique()"
   ]
  },
  {
   "cell_type": "code",
   "execution_count": null,
   "id": "77bec323-64ad-4ed5-b06f-99a3c26f99b4",
   "metadata": {},
   "outputs": [],
   "source": [
    "df[\"Start_Date\"].nunique()"
   ]
  },
  {
   "cell_type": "code",
   "execution_count": null,
   "id": "8755f768-88f4-495a-898e-eb8482ca10f7",
   "metadata": {},
   "outputs": [],
   "source": [
    "df[\"Start_Date\"].value_counts()"
   ]
  },
  {
   "cell_type": "code",
   "execution_count": null,
   "id": "081f105b-22e0-4199-b6d1-1328dcf335eb",
   "metadata": {},
   "outputs": [],
   "source": [
    "def convert_date_format(date_str):\n",
    "    try:\n",
    "        # First try parsing as DD/MM/YYYY\n",
    "        dt = datetime.strptime(date_str, '%d/%m/%Y')\n",
    "        return dt.strftime('%d/%m/%Y')  # Return in desired format\n",
    "        \n",
    "    except ValueError:\n",
    "        try:\n",
    "            # If that fails, try parsing as MM/DD/YYYY\n",
    "            dt = datetime.strptime(date_str, '%m/%d/%Y')\n",
    "            # Convert to DD/MM/YYYY format\n",
    "            return dt.strftime('%d/%m/%Y')\n",
    "            \n",
    "        except ValueError:\n",
    "            # If both fail, return the original string (or handle as needed)\n",
    "            return date_str\n",
    "\n",
    "# Apply the conversion to your column\n",
    "df['Start_Date'] = df['Start_Date'].astype(str).apply(convert_date_format)\n",
    "\n",
    "# Verify the conversion\n",
    "print(\"Value counts after conversion:\")\n",
    "print(df['Start_Date'].value_counts().head(20))"
   ]
  },
  {
   "cell_type": "code",
   "execution_count": null,
   "id": "26f8fb0e-07a8-4be6-960d-07838cffe024",
   "metadata": {},
   "outputs": [],
   "source": [
    "df[\"Start_Date\"].value_counts()"
   ]
  },
  {
   "cell_type": "code",
   "execution_count": null,
   "id": "55d6d3f6-0033-479f-9aca-edb2cbeee6bc",
   "metadata": {},
   "outputs": [],
   "source": [
    "df[\"Start_Date\"].isna().sum()"
   ]
  },
  {
   "cell_type": "markdown",
   "id": "918c7c67-17b2-4f71-beaf-a78d4b5472b6",
   "metadata": {},
   "source": [
    "### *`Data Value`*"
   ]
  },
  {
   "cell_type": "code",
   "execution_count": null,
   "id": "4bfd81ca-fe46-408d-89dc-71210006b9b3",
   "metadata": {},
   "outputs": [],
   "source": [
    "df['Data Value'].unique()"
   ]
  },
  {
   "cell_type": "code",
   "execution_count": null,
   "id": "482c4c0f-4cc3-43a1-8565-a8587f53094b",
   "metadata": {},
   "outputs": [],
   "source": [
    "df['Data Value'].nunique()"
   ]
  },
  {
   "cell_type": "code",
   "execution_count": null,
   "id": "c58e0967-56f5-4729-a1b3-5ce6b03bf0c7",
   "metadata": {},
   "outputs": [],
   "source": [
    "df['Data Value'].describe()"
   ]
  },
  {
   "cell_type": "code",
   "execution_count": null,
   "id": "5bc118a9-22e6-4798-8ea3-15ac7d3e9e1c",
   "metadata": {},
   "outputs": [],
   "source": [
    "df['Data Value'] = df['Data Value'].round(2)"
   ]
  },
  {
   "cell_type": "code",
   "execution_count": null,
   "id": "8abfa294-4d8a-474d-a260-131d145650b4",
   "metadata": {},
   "outputs": [],
   "source": [
    "df['Data Value'].describe()"
   ]
  },
  {
   "cell_type": "code",
   "execution_count": null,
   "id": "c86205d1-abb9-4dca-b0d1-ffef7726091f",
   "metadata": {},
   "outputs": [],
   "source": [
    "df[df['Data Value'] < 0]"
   ]
  },
  {
   "cell_type": "code",
   "execution_count": null,
   "id": "80dfeaa8-b711-427e-be2d-db14823ddff5",
   "metadata": {},
   "outputs": [],
   "source": [
    "df[df['Data Value'] > 100] "
   ]
  },
  {
   "cell_type": "code",
   "execution_count": null,
   "id": "fba683c8-5af9-4a3f-84b4-80f49fbd7d6d",
   "metadata": {},
   "outputs": [],
   "source": [
    "df['Data Value'].dtype"
   ]
  },
  {
   "cell_type": "code",
   "execution_count": null,
   "id": "15956acc-5b01-47fd-8080-3941549fb5a0",
   "metadata": {},
   "outputs": [],
   "source": [
    "df.columns"
   ]
  },
  {
   "cell_type": "code",
   "execution_count": null,
   "id": "d2c6ac05-0bd9-4cfe-a6c3-edf6a03cf1ca",
   "metadata": {},
   "outputs": [],
   "source": []
  },
  {
   "cell_type": "code",
   "execution_count": null,
   "id": "f65353de-67e3-496d-8299-268626ffea0b",
   "metadata": {},
   "outputs": [],
   "source": []
  }
 ],
 "metadata": {
  "kernelspec": {
   "display_name": "Python 3 (ipykernel)",
   "language": "python",
   "name": "python3"
  },
  "language_info": {
   "codemirror_mode": {
    "name": "ipython",
    "version": 3
   },
   "file_extension": ".py",
   "mimetype": "text/x-python",
   "name": "python",
   "nbconvert_exporter": "python",
   "pygments_lexer": "ipython3",
   "version": "3.12.7"
  }
 },
 "nbformat": 4,
 "nbformat_minor": 5
}
